{
 "cells": [
  {
   "cell_type": "markdown",
   "metadata": {},
   "source": [
    "## Hastags and Emoji detection"
   ]
  },
  {
   "cell_type": "markdown",
   "metadata": {},
   "source": [
    "* Social media posts, especially tweets, can be difficult to work with as they contain various emoji and hashtags."
   ]
  },
  {
   "cell_type": "code",
   "execution_count": 1,
   "metadata": {},
   "outputs": [],
   "source": [
    "pos_emoji = [\"\\U0001F600\",\"\\U0001F642\",\"\\U0001F923\",\"\\U0001F602\",\"\\U0001F970\",\"\\U0001F929\"]"
   ]
  },
  {
   "cell_type": "code",
   "execution_count": 2,
   "metadata": {},
   "outputs": [],
   "source": [
    "neg_emoji = [\"\\U0001F615\",\"\\U0001F624\",\"\\U0001F621\",\"\\U0001F620\",\"\\U0001F92C\",\"\\U0001F62D\",\"\\U0001F629\"]\n"
   ]
  },
  {
   "cell_type": "code",
   "execution_count": 3,
   "metadata": {},
   "outputs": [],
   "source": [
    "pos = [[{'ORTH':emoji}] for emoji in pos_emoji]\n",
    "neg = [[{'ORTH':emoji}] for emoji in neg_emoji]"
   ]
  },
  {
   "cell_type": "code",
   "execution_count": 4,
   "metadata": {},
   "outputs": [
    {
     "data": {
      "text/plain": [
       "[[{'ORTH': '😀'}],\n",
       " [{'ORTH': '🙂'}],\n",
       " [{'ORTH': '🤣'}],\n",
       " [{'ORTH': '😂'}],\n",
       " [{'ORTH': '🥰'}],\n",
       " [{'ORTH': '🤩'}]]"
      ]
     },
     "execution_count": 4,
     "metadata": {},
     "output_type": "execute_result"
    }
   ],
   "source": [
    "pos"
   ]
  },
  {
   "cell_type": "code",
   "execution_count": 5,
   "metadata": {},
   "outputs": [
    {
     "data": {
      "text/plain": [
       "[[{'ORTH': '😕'}],\n",
       " [{'ORTH': '😤'}],\n",
       " [{'ORTH': '😡'}],\n",
       " [{'ORTH': '😠'}],\n",
       " [{'ORTH': '🤬'}],\n",
       " [{'ORTH': '😭'}],\n",
       " [{'ORTH': '😩'}]]"
      ]
     },
     "execution_count": 5,
     "metadata": {},
     "output_type": "execute_result"
    }
   ],
   "source": [
    "neg"
   ]
  },
  {
   "cell_type": "code",
   "execution_count": 10,
   "metadata": {},
   "outputs": [],
   "source": [
    "import spacy\n",
    "from spacy.matcher import Matcher"
   ]
  },
  {
   "cell_type": "code",
   "execution_count": 11,
   "metadata": {},
   "outputs": [],
   "source": [
    "nlp = spacy.load('en_core_web_sm')\n",
    "matcher = Matcher(nlp.vocab)"
   ]
  },
  {
   "cell_type": "code",
   "execution_count": 12,
   "metadata": {},
   "outputs": [],
   "source": [
    "def sentiment(matcher, doc, idx, matches):\n",
    "    match_id,start,end=matches[idx]\n",
    "    if doc.vocab.strings[match_id] == \"happy\":\n",
    "        doc.sentiment+=0.1\n",
    "    elif doc.vocab.strings[match_id] == \"sad\":\n",
    "        doc.sentiment -= 0.1"
   ]
  },
  {
   "cell_type": "code",
   "execution_count": 14,
   "metadata": {},
   "outputs": [],
   "source": [
    "matcher.add(\"happy\",sentiment,*pos)\n",
    "matcher.add(\"sad\",sentiment,*neg)"
   ]
  },
  {
   "cell_type": "code",
   "execution_count": 15,
   "metadata": {},
   "outputs": [],
   "source": [
    "matcher.add('HASHTAG', None, [{'TEXT':'#'},{'IS_ASCII':True}])"
   ]
  },
  {
   "cell_type": "code",
   "execution_count": 16,
   "metadata": {},
   "outputs": [],
   "source": [
    "doc = nlp('Hi ALL \\U0001F600 It was fun working with you! #works')"
   ]
  },
  {
   "cell_type": "code",
   "execution_count": 18,
   "metadata": {},
   "outputs": [
    {
     "name": "stdout",
     "output_type": "stream",
     "text": [
      "happy 😀\n",
      "HASHTAG #works\n"
     ]
    }
   ],
   "source": [
    "matches = matcher(doc)\n",
    "\n",
    "for match_id, start,end in matches:\n",
    "    string_id = doc.vocab.strings[match_id]\n",
    "    span = doc[start:end]\n",
    "    print(string_id,span.text)"
   ]
  },
  {
   "cell_type": "code",
   "execution_count": null,
   "metadata": {},
   "outputs": [],
   "source": []
  }
 ],
 "metadata": {
  "kernelspec": {
   "display_name": "Python 3",
   "language": "python",
   "name": "python3"
  },
  "language_info": {
   "codemirror_mode": {
    "name": "ipython",
    "version": 3
   },
   "file_extension": ".py",
   "mimetype": "text/x-python",
   "name": "python",
   "nbconvert_exporter": "python",
   "pygments_lexer": "ipython3",
   "version": "3.8.5"
  }
 },
 "nbformat": 4,
 "nbformat_minor": 4
}
