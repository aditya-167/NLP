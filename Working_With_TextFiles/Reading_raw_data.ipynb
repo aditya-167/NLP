{
 "cells": [
  {
   "cell_type": "code",
   "execution_count": 1,
   "metadata": {},
   "outputs": [],
   "source": [
    "!mkdir sample\n"
   ]
  },
  {
   "cell_type": "code",
   "execution_count": 2,
   "metadata": {},
   "outputs": [
    {
     "name": "stdout",
     "output_type": "stream",
     "text": [
      "sample\tUntitled.ipynb\r\n"
     ]
    }
   ],
   "source": [
    "!ls\n"
   ]
  },
  {
   "cell_type": "markdown",
   "metadata": {},
   "source": [
    "## Write Files"
   ]
  },
  {
   "cell_type": "code",
   "execution_count": 8,
   "metadata": {},
   "outputs": [],
   "source": [
    "file = open('sample/data.txt','w')\n",
    "\n",
    "data = 'this is an example sentence with given number char with one byte'\n",
    "\n",
    "file.write(data)\n",
    "file.close()"
   ]
  },
  {
   "cell_type": "code",
   "execution_count": 9,
   "metadata": {},
   "outputs": [],
   "source": [
    "file = open('sample/data.txt','a')\n",
    "\n",
    "data = '\\nthis is an example sentence with append'\n",
    "file.write(data)\n",
    "file.close()"
   ]
  },
  {
   "cell_type": "code",
   "execution_count": 7,
   "metadata": {},
   "outputs": [
    {
     "name": "stdout",
     "output_type": "stream",
     "text": [
      "sample\tText_Data.ipynb\r\n"
     ]
    }
   ],
   "source": [
    "file = open('sample/data.txt','w')\n",
    "\n",
    "data = 'this is an example sentence with given number char with one byte'\n",
    "\n",
    "file.write(data)\n",
    "file.close()"
   ]
  },
  {
   "cell_type": "markdown",
   "metadata": {},
   "source": [
    "## Read Files"
   ]
  },
  {
   "cell_type": "code",
   "execution_count": 10,
   "metadata": {},
   "outputs": [],
   "source": [
    "file = open('sample/read_data.txt','r')\n"
   ]
  },
  {
   "cell_type": "code",
   "execution_count": 11,
   "metadata": {},
   "outputs": [
    {
     "data": {
      "text/plain": [
       "'Lorem ipsum dolor sit amet, consectetur adipiscing elit. Integer posuere ultrices malesuada. Duis nunc arcu, lacinia eget est a, suscipit euismod arcu. Pellentesque eu nisi pulvinar, interdum tellus eu, elementum mi. Proin ex lacus, volutpat id ex at, elementum cursus elit. In hac habitasse platea dictumst. In efficitur luctus enim sed eleifend. Curabitur egestas molestie facilisis. Nulla facilisi. Ut nec tortor et sapien cursus porttitor nec eget ante. Curabitur convallis enim neque, vitae rutrum nulla interdum vel.\\n\\nUt urna nisi, ultrices nec consequat a, vestibulum sit amet risus. Nulla pharetra, mi in ultrices commodo, felis tellus bibendum lectus, ac maximus ligula tortor molestie magna. Aenean tincidunt at sapien ullamcorper euismod. Donec vel lorem ac quam consectetur varius. In hac habitasse platea dictumst. Morbi ullamcorper iaculis neque non vulputate. Nulla vel libero id diam placerat porttitor in eu enim. Pellentesque dui neque, ullamcorper ac velit eget, aliquam porttitor ipsum. Vestibulum aliquet accumsan augue vel molestie. Fusce vel velit arcu.\\n\\nProin vitae enim nibh. Aenean dolor ante, congue non convallis sed, placerat nec tellus. Fusce nec sodales felis. Proin leo dolor, malesuada sit amet euismod quis, ullamcorper in orci. Fusce euismod maximus arcu, eu pulvinar lectus mattis sit amet. Aenean euismod neque a metus interdum blandit. Fusce sed volutpat lectus, quis rhoncus ex. Suspendisse potenti. Integer auctor posuere congue. Nunc pellentesque eros orci, nec gravida nunc volutpat nec. Pellentesque nibh lectus, efficitur a massa in, posuere accumsan elit. Etiam eleifend lorem sit amet augue iaculis, vel ultrices massa dignissim. Aliquam erat volutpat. Aliquam erat volutpat.\\n\\nVestibulum eget posuere quam. Quisque molestie, leo sed gravida dignissim, libero neque dapibus ligula, sed ultrices lacus justo id dolor. Phasellus nec dui non risus molestie ornare ac at nulla. Nam egestas varius tempor. Morbi rhoncus arcu feugiat odio finibus, sed commodo est varius. Phasellus nec ex ligula. Fusce mattis ante et purus ultricies maximus.\\n\\nProin nec semper metus. Donec eleifend at metus vitae pretium. Quisque id mi dignissim, dictum ligula in, elementum odio. Curabitur vel felis non mi aliquet ullamcorper. Proin lacinia mi id condimentum vulputate. Nullam at finibus nisl, sit amet scelerisque sem. Ut efficitur, ante eget luctus volutpat, nisl justo gravida sapien, id tristique mi magna quis nisl. Aliquam erat volutpat. Aliquam tempor condimentum posuere. Duis iaculis, enim eget fringilla sollicitudin, lectus nisl dignissim est, in rhoncus augue orci eget sem. Sed consequat, nulla sed volutpat lacinia, nisl justo tempus nulla, vel tincidunt ante massa ut magna. Nullam malesuada orci nisl, eu vestibulum ante auctor luctus. Nunc sit amet urna rutrum, tincidunt est in, ornare turpis.\\n'"
      ]
     },
     "execution_count": 11,
     "metadata": {},
     "output_type": "execute_result"
    }
   ],
   "source": [
    "file.read() # Reads everything"
   ]
  },
  {
   "cell_type": "code",
   "execution_count": 15,
   "metadata": {},
   "outputs": [
    {
     "data": {
      "text/plain": [
       "''"
      ]
     },
     "execution_count": 15,
     "metadata": {},
     "output_type": "execute_result"
    }
   ],
   "source": [
    "file.read()"
   ]
  },
  {
   "cell_type": "code",
   "execution_count": 16,
   "metadata": {},
   "outputs": [
    {
     "data": {
      "text/plain": [
       "0"
      ]
     },
     "execution_count": 16,
     "metadata": {},
     "output_type": "execute_result"
    }
   ],
   "source": [
    "file.seek(0)"
   ]
  },
  {
   "cell_type": "code",
   "execution_count": 17,
   "metadata": {},
   "outputs": [
    {
     "data": {
      "text/plain": [
       "'Lorem ipsum dolor sit amet, consectetur adipiscing elit. Integer posuere ultrices malesuada. Duis nunc arcu, lacinia eget est a, suscipit euismod arcu. Pellentesque eu nisi pulvinar, interdum tellus eu, elementum mi. Proin ex lacus, volutpat id ex at, elementum cursus elit. In hac habitasse platea dictumst. In efficitur luctus enim sed eleifend. Curabitur egestas molestie facilisis. Nulla facilisi. Ut nec tortor et sapien cursus porttitor nec eget ante. Curabitur convallis enim neque, vitae rutrum nulla interdum vel.\\n\\nUt urna nisi, ultrices nec consequat a, vestibulum sit amet risus. Nulla pharetra, mi in ultrices commodo, felis tellus bibendum lectus, ac maximus ligula tortor molestie magna. Aenean tincidunt at sapien ullamcorper euismod. Donec vel lorem ac quam consectetur varius. In hac habitasse platea dictumst. Morbi ullamcorper iaculis neque non vulputate. Nulla vel libero id diam placerat porttitor in eu enim. Pellentesque dui neque, ullamcorper ac velit eget, aliquam porttitor ipsum. Vestibulum aliquet accumsan augue vel molestie. Fusce vel velit arcu.\\n\\nProin vitae enim nibh. Aenean dolor ante, congue non convallis sed, placerat nec tellus. Fusce nec sodales felis. Proin leo dolor, malesuada sit amet euismod quis, ullamcorper in orci. Fusce euismod maximus arcu, eu pulvinar lectus mattis sit amet. Aenean euismod neque a metus interdum blandit. Fusce sed volutpat lectus, quis rhoncus ex. Suspendisse potenti. Integer auctor posuere congue. Nunc pellentesque eros orci, nec gravida nunc volutpat nec. Pellentesque nibh lectus, efficitur a massa in, posuere accumsan elit. Etiam eleifend lorem sit amet augue iaculis, vel ultrices massa dignissim. Aliquam erat volutpat. Aliquam erat volutpat.\\n\\nVestibulum eget posuere quam. Quisque molestie, leo sed gravida dignissim, libero neque dapibus ligula, sed ultrices lacus justo id dolor. Phasellus nec dui non risus molestie ornare ac at nulla. Nam egestas varius tempor. Morbi rhoncus arcu feugiat odio finibus, sed commodo est varius. Phasellus nec ex ligula. Fusce mattis ante et purus ultricies maximus.\\n\\nProin nec semper metus. Donec eleifend at metus vitae pretium. Quisque id mi dignissim, dictum ligula in, elementum odio. Curabitur vel felis non mi aliquet ullamcorper. Proin lacinia mi id condimentum vulputate. Nullam at finibus nisl, sit amet scelerisque sem. Ut efficitur, ante eget luctus volutpat, nisl justo gravida sapien, id tristique mi magna quis nisl. Aliquam erat volutpat. Aliquam tempor condimentum posuere. Duis iaculis, enim eget fringilla sollicitudin, lectus nisl dignissim est, in rhoncus augue orci eget sem. Sed consequat, nulla sed volutpat lacinia, nisl justo tempus nulla, vel tincidunt ante massa ut magna. Nullam malesuada orci nisl, eu vestibulum ante auctor luctus. Nunc sit amet urna rutrum, tincidunt est in, ornare turpis.\\n'"
      ]
     },
     "execution_count": 17,
     "metadata": {},
     "output_type": "execute_result"
    }
   ],
   "source": [
    "file.read()"
   ]
  },
  {
   "cell_type": "code",
   "execution_count": 19,
   "metadata": {},
   "outputs": [
    {
     "data": {
      "text/plain": [
       "0"
      ]
     },
     "execution_count": 19,
     "metadata": {},
     "output_type": "execute_result"
    }
   ],
   "source": [
    "file.seek(0)"
   ]
  },
  {
   "cell_type": "code",
   "execution_count": 20,
   "metadata": {},
   "outputs": [
    {
     "data": {
      "text/plain": [
       "['Lorem ipsum dolor sit amet, consectetur adipiscing elit. Integer posuere ultrices malesuada. Duis nunc arcu, lacinia eget est a, suscipit euismod arcu. Pellentesque eu nisi pulvinar, interdum tellus eu, elementum mi. Proin ex lacus, volutpat id ex at, elementum cursus elit. In hac habitasse platea dictumst. In efficitur luctus enim sed eleifend. Curabitur egestas molestie facilisis. Nulla facilisi. Ut nec tortor et sapien cursus porttitor nec eget ante. Curabitur convallis enim neque, vitae rutrum nulla interdum vel.',\n",
       " '',\n",
       " 'Ut urna nisi, ultrices nec consequat a, vestibulum sit amet risus. Nulla pharetra, mi in ultrices commodo, felis tellus bibendum lectus, ac maximus ligula tortor molestie magna. Aenean tincidunt at sapien ullamcorper euismod. Donec vel lorem ac quam consectetur varius. In hac habitasse platea dictumst. Morbi ullamcorper iaculis neque non vulputate. Nulla vel libero id diam placerat porttitor in eu enim. Pellentesque dui neque, ullamcorper ac velit eget, aliquam porttitor ipsum. Vestibulum aliquet accumsan augue vel molestie. Fusce vel velit arcu.',\n",
       " '',\n",
       " 'Proin vitae enim nibh. Aenean dolor ante, congue non convallis sed, placerat nec tellus. Fusce nec sodales felis. Proin leo dolor, malesuada sit amet euismod quis, ullamcorper in orci. Fusce euismod maximus arcu, eu pulvinar lectus mattis sit amet. Aenean euismod neque a metus interdum blandit. Fusce sed volutpat lectus, quis rhoncus ex. Suspendisse potenti. Integer auctor posuere congue. Nunc pellentesque eros orci, nec gravida nunc volutpat nec. Pellentesque nibh lectus, efficitur a massa in, posuere accumsan elit. Etiam eleifend lorem sit amet augue iaculis, vel ultrices massa dignissim. Aliquam erat volutpat. Aliquam erat volutpat.',\n",
       " '',\n",
       " 'Vestibulum eget posuere quam. Quisque molestie, leo sed gravida dignissim, libero neque dapibus ligula, sed ultrices lacus justo id dolor. Phasellus nec dui non risus molestie ornare ac at nulla. Nam egestas varius tempor. Morbi rhoncus arcu feugiat odio finibus, sed commodo est varius. Phasellus nec ex ligula. Fusce mattis ante et purus ultricies maximus.',\n",
       " '',\n",
       " 'Proin nec semper metus. Donec eleifend at metus vitae pretium. Quisque id mi dignissim, dictum ligula in, elementum odio. Curabitur vel felis non mi aliquet ullamcorper. Proin lacinia mi id condimentum vulputate. Nullam at finibus nisl, sit amet scelerisque sem. Ut efficitur, ante eget luctus volutpat, nisl justo gravida sapien, id tristique mi magna quis nisl. Aliquam erat volutpat. Aliquam tempor condimentum posuere. Duis iaculis, enim eget fringilla sollicitudin, lectus nisl dignissim est, in rhoncus augue orci eget sem. Sed consequat, nulla sed volutpat lacinia, nisl justo tempus nulla, vel tincidunt ante massa ut magna. Nullam malesuada orci nisl, eu vestibulum ante auctor luctus. Nunc sit amet urna rutrum, tincidunt est in, ornare turpis.']"
      ]
     },
     "execution_count": 20,
     "metadata": {},
     "output_type": "execute_result"
    }
   ],
   "source": [
    "file.read().splitlines()"
   ]
  },
  {
   "cell_type": "code",
   "execution_count": 21,
   "metadata": {},
   "outputs": [
    {
     "data": {
      "text/plain": [
       "0"
      ]
     },
     "execution_count": 21,
     "metadata": {},
     "output_type": "execute_result"
    }
   ],
   "source": [
    "file.seek(0)"
   ]
  },
  {
   "cell_type": "code",
   "execution_count": 22,
   "metadata": {},
   "outputs": [
    {
     "data": {
      "text/plain": [
       "'Lorem ipsum dolor sit amet, consectetur adipiscing elit. Integer posuere ultrices malesuada. Duis nunc arcu, lacinia eget est a, suscipit euismod arcu. Pellentesque eu nisi pulvinar, interdum tellus eu, elementum mi. Proin ex lacus, volutpat id ex at, elementum cursus elit. In hac habitasse platea dictumst. In efficitur luctus enim sed eleifend. Curabitur egestas molestie facilisis. Nulla facilisi. Ut nec tortor et sapien cursus porttitor nec eget ante. Curabitur convallis enim neque, vitae rutrum nulla interdum vel.\\n'"
      ]
     },
     "execution_count": 22,
     "metadata": {},
     "output_type": "execute_result"
    }
   ],
   "source": [
    "file.readline()"
   ]
  },
  {
   "cell_type": "code",
   "execution_count": 23,
   "metadata": {},
   "outputs": [
    {
     "data": {
      "text/plain": [
       "['\\n',\n",
       " 'Ut urna nisi, ultrices nec consequat a, vestibulum sit amet risus. Nulla pharetra, mi in ultrices commodo, felis tellus bibendum lectus, ac maximus ligula tortor molestie magna. Aenean tincidunt at sapien ullamcorper euismod. Donec vel lorem ac quam consectetur varius. In hac habitasse platea dictumst. Morbi ullamcorper iaculis neque non vulputate. Nulla vel libero id diam placerat porttitor in eu enim. Pellentesque dui neque, ullamcorper ac velit eget, aliquam porttitor ipsum. Vestibulum aliquet accumsan augue vel molestie. Fusce vel velit arcu.\\n',\n",
       " '\\n',\n",
       " 'Proin vitae enim nibh. Aenean dolor ante, congue non convallis sed, placerat nec tellus. Fusce nec sodales felis. Proin leo dolor, malesuada sit amet euismod quis, ullamcorper in orci. Fusce euismod maximus arcu, eu pulvinar lectus mattis sit amet. Aenean euismod neque a metus interdum blandit. Fusce sed volutpat lectus, quis rhoncus ex. Suspendisse potenti. Integer auctor posuere congue. Nunc pellentesque eros orci, nec gravida nunc volutpat nec. Pellentesque nibh lectus, efficitur a massa in, posuere accumsan elit. Etiam eleifend lorem sit amet augue iaculis, vel ultrices massa dignissim. Aliquam erat volutpat. Aliquam erat volutpat.\\n',\n",
       " '\\n',\n",
       " 'Vestibulum eget posuere quam. Quisque molestie, leo sed gravida dignissim, libero neque dapibus ligula, sed ultrices lacus justo id dolor. Phasellus nec dui non risus molestie ornare ac at nulla. Nam egestas varius tempor. Morbi rhoncus arcu feugiat odio finibus, sed commodo est varius. Phasellus nec ex ligula. Fusce mattis ante et purus ultricies maximus.\\n',\n",
       " '\\n',\n",
       " 'Proin nec semper metus. Donec eleifend at metus vitae pretium. Quisque id mi dignissim, dictum ligula in, elementum odio. Curabitur vel felis non mi aliquet ullamcorper. Proin lacinia mi id condimentum vulputate. Nullam at finibus nisl, sit amet scelerisque sem. Ut efficitur, ante eget luctus volutpat, nisl justo gravida sapien, id tristique mi magna quis nisl. Aliquam erat volutpat. Aliquam tempor condimentum posuere. Duis iaculis, enim eget fringilla sollicitudin, lectus nisl dignissim est, in rhoncus augue orci eget sem. Sed consequat, nulla sed volutpat lacinia, nisl justo tempus nulla, vel tincidunt ante massa ut magna. Nullam malesuada orci nisl, eu vestibulum ante auctor luctus. Nunc sit amet urna rutrum, tincidunt est in, ornare turpis.\\n']"
      ]
     },
     "execution_count": 23,
     "metadata": {},
     "output_type": "execute_result"
    }
   ],
   "source": [
    "file.readlines()"
   ]
  },
  {
   "cell_type": "code",
   "execution_count": 24,
   "metadata": {},
   "outputs": [],
   "source": [
    "file.seek(0)\n",
    "data = file.read().splitlines()\n",
    "file.close()"
   ]
  },
  {
   "cell_type": "code",
   "execution_count": 25,
   "metadata": {},
   "outputs": [
    {
     "data": {
      "text/plain": [
       "['Lorem ipsum dolor sit amet, consectetur adipiscing elit. Integer posuere ultrices malesuada. Duis nunc arcu, lacinia eget est a, suscipit euismod arcu. Pellentesque eu nisi pulvinar, interdum tellus eu, elementum mi. Proin ex lacus, volutpat id ex at, elementum cursus elit. In hac habitasse platea dictumst. In efficitur luctus enim sed eleifend. Curabitur egestas molestie facilisis. Nulla facilisi. Ut nec tortor et sapien cursus porttitor nec eget ante. Curabitur convallis enim neque, vitae rutrum nulla interdum vel.',\n",
       " '',\n",
       " 'Ut urna nisi, ultrices nec consequat a, vestibulum sit amet risus. Nulla pharetra, mi in ultrices commodo, felis tellus bibendum lectus, ac maximus ligula tortor molestie magna. Aenean tincidunt at sapien ullamcorper euismod. Donec vel lorem ac quam consectetur varius. In hac habitasse platea dictumst. Morbi ullamcorper iaculis neque non vulputate. Nulla vel libero id diam placerat porttitor in eu enim. Pellentesque dui neque, ullamcorper ac velit eget, aliquam porttitor ipsum. Vestibulum aliquet accumsan augue vel molestie. Fusce vel velit arcu.',\n",
       " '',\n",
       " 'Proin vitae enim nibh. Aenean dolor ante, congue non convallis sed, placerat nec tellus. Fusce nec sodales felis. Proin leo dolor, malesuada sit amet euismod quis, ullamcorper in orci. Fusce euismod maximus arcu, eu pulvinar lectus mattis sit amet. Aenean euismod neque a metus interdum blandit. Fusce sed volutpat lectus, quis rhoncus ex. Suspendisse potenti. Integer auctor posuere congue. Nunc pellentesque eros orci, nec gravida nunc volutpat nec. Pellentesque nibh lectus, efficitur a massa in, posuere accumsan elit. Etiam eleifend lorem sit amet augue iaculis, vel ultrices massa dignissim. Aliquam erat volutpat. Aliquam erat volutpat.',\n",
       " '',\n",
       " 'Vestibulum eget posuere quam. Quisque molestie, leo sed gravida dignissim, libero neque dapibus ligula, sed ultrices lacus justo id dolor. Phasellus nec dui non risus molestie ornare ac at nulla. Nam egestas varius tempor. Morbi rhoncus arcu feugiat odio finibus, sed commodo est varius. Phasellus nec ex ligula. Fusce mattis ante et purus ultricies maximus.',\n",
       " '',\n",
       " 'Proin nec semper metus. Donec eleifend at metus vitae pretium. Quisque id mi dignissim, dictum ligula in, elementum odio. Curabitur vel felis non mi aliquet ullamcorper. Proin lacinia mi id condimentum vulputate. Nullam at finibus nisl, sit amet scelerisque sem. Ut efficitur, ante eget luctus volutpat, nisl justo gravida sapien, id tristique mi magna quis nisl. Aliquam erat volutpat. Aliquam tempor condimentum posuere. Duis iaculis, enim eget fringilla sollicitudin, lectus nisl dignissim est, in rhoncus augue orci eget sem. Sed consequat, nulla sed volutpat lacinia, nisl justo tempus nulla, vel tincidunt ante massa ut magna. Nullam malesuada orci nisl, eu vestibulum ante auctor luctus. Nunc sit amet urna rutrum, tincidunt est in, ornare turpis.']"
      ]
     },
     "execution_count": 25,
     "metadata": {},
     "output_type": "execute_result"
    }
   ],
   "source": [
    "data"
   ]
  },
  {
   "cell_type": "markdown",
   "metadata": {},
   "source": [
    "## Speech data(Audio)"
   ]
  },
  {
   "cell_type": "code",
   "execution_count": 1,
   "metadata": {},
   "outputs": [],
   "source": [
    "import speech_recognition as sr"
   ]
  },
  {
   "cell_type": "code",
   "execution_count": 3,
   "metadata": {},
   "outputs": [
    {
     "name": "stdout",
     "output_type": "stream",
     "text": [
      "sayy!!!\n",
      "You said.....\n",
      "moog front 10 speed\n"
     ]
    }
   ],
   "source": [
    "r = sr.Recognizer()\n",
    "with sr.Microphone() as source:\n",
    "    print(\"sayy!!!\")\n",
    "    audio = r.listen(source,timeout=10)\n",
    "    \n",
    "    try:\n",
    "        text = r.recognize_google(audio)\n",
    "        print(\"You said.....\")\n",
    "        print(text)\n",
    "    except:\n",
    "        print(\"try again\")"
   ]
  },
  {
   "cell_type": "code",
   "execution_count": 7,
   "metadata": {},
   "outputs": [
    {
     "name": "stdout",
     "output_type": "stream",
     "text": [
      "working on ...\n",
      "hello yes so we were talking about the addition of candidates in them will be providing on this stop\n"
     ]
    }
   ],
   "source": [
    "with sr.AudioFile('sample/test.wav') as source:\n",
    "    audio = r.listen(source)\n",
    "    \n",
    "    try:\n",
    "        text = r.recognize_google(audio)\n",
    "        print('working on ...')\n",
    "        print(text)\n",
    "    except:\n",
    "        print(\"sorry, try again\")"
   ]
  },
  {
   "cell_type": "markdown",
   "metadata": {},
   "source": [
    "## Text to Speech"
   ]
  },
  {
   "cell_type": "code",
   "execution_count": 8,
   "metadata": {},
   "outputs": [
    {
     "name": "stdout",
     "output_type": "stream",
     "text": [
      "Collecting gTTS\n",
      "  Downloading gTTS-2.1.1-py3-none-any.whl (25 kB)\n",
      "Requirement already satisfied: six in /home/aditya/.local/lib/python3.7/site-packages (from gTTS) (1.15.0)\n",
      "Requirement already satisfied: beautifulsoup4 in /home/aditya/miniconda3/envs/dl/lib/python3.7/site-packages (from gTTS) (4.9.3)\n",
      "Collecting gtts-token>=1.1.3\n",
      "  Downloading gTTS-token-1.1.3.tar.gz (3.4 kB)\n",
      "Requirement already satisfied: requests in /home/aditya/miniconda3/envs/dl/lib/python3.7/site-packages (from gTTS) (2.24.0)\n",
      "Requirement already satisfied: click in /home/aditya/miniconda3/envs/dl/lib/python3.7/site-packages (from gTTS) (7.1.2)\n",
      "Requirement already satisfied: soupsieve>1.2; python_version >= \"3.0\" in /home/aditya/miniconda3/envs/dl/lib/python3.7/site-packages (from beautifulsoup4->gTTS) (2.0.1)\n",
      "Requirement already satisfied: certifi>=2017.4.17 in /home/aditya/miniconda3/envs/dl/lib/python3.7/site-packages (from requests->gTTS) (2020.6.20)\n",
      "Requirement already satisfied: idna<3,>=2.5 in /home/aditya/miniconda3/envs/dl/lib/python3.7/site-packages (from requests->gTTS) (2.10)\n",
      "Requirement already satisfied: chardet<4,>=3.0.2 in /home/aditya/miniconda3/envs/dl/lib/python3.7/site-packages (from requests->gTTS) (3.0.4)\n",
      "Requirement already satisfied: urllib3!=1.25.0,!=1.25.1,<1.26,>=1.21.1 in /home/aditya/miniconda3/envs/dl/lib/python3.7/site-packages (from requests->gTTS) (1.25.10)\n",
      "Building wheels for collected packages: gtts-token\n",
      "  Building wheel for gtts-token (setup.py) ... \u001b[?25ldone\n",
      "\u001b[?25h  Created wheel for gtts-token: filename=gTTS_token-1.1.3-py3-none-any.whl size=4097 sha256=67884ba3197682f3aaef5efdccc89ac979cc475adf63db40125e432a02f23c7b\n",
      "  Stored in directory: /home/aditya/.cache/pip/wheels/c1/78/25/81270af5521d88ea8db7da5d4f64872673976eb9692bcb0c13\n",
      "Successfully built gtts-token\n",
      "Installing collected packages: gtts-token, gTTS\n",
      "Successfully installed gTTS-2.1.1 gtts-token-1.1.3\n"
     ]
    }
   ],
   "source": [
    "!pip install gTTS"
   ]
  },
  {
   "cell_type": "code",
   "execution_count": 9,
   "metadata": {},
   "outputs": [],
   "source": [
    "text = \"Hi this is test and wanted to check how audio conversion works!\"\n"
   ]
  },
  {
   "cell_type": "code",
   "execution_count": 11,
   "metadata": {},
   "outputs": [],
   "source": [
    "from gtts import gTTS as g\n",
    "obj = g(text = text,lang='en')\n",
    "obj.save('sample/sample_audio_text.mp3')"
   ]
  },
  {
   "cell_type": "code",
   "execution_count": null,
   "metadata": {},
   "outputs": [],
   "source": []
  }
 ],
 "metadata": {
  "kernelspec": {
   "display_name": "Python 3",
   "language": "python",
   "name": "python3"
  },
  "language_info": {
   "codemirror_mode": {
    "name": "ipython",
    "version": 3
   },
   "file_extension": ".py",
   "mimetype": "text/x-python",
   "name": "python",
   "nbconvert_exporter": "python",
   "pygments_lexer": "ipython3",
   "version": "3.7.7"
  }
 },
 "nbformat": 4,
 "nbformat_minor": 4
}
